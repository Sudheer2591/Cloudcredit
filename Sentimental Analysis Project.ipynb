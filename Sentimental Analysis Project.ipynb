{
 "cells": [
  {
   "cell_type": "code",
   "execution_count": 1,
   "id": "76c926d5",
   "metadata": {},
   "outputs": [],
   "source": [
    "import pandas as pd\n",
    "import numpy as np\n",
    "import matplotlib.pyplot as plt\n",
    "import seaborn as sns\n",
    "import warnings\n",
    "warnings.filterwarnings('ignore')"
   ]
  },
  {
   "cell_type": "code",
   "execution_count": 2,
   "id": "0390ae2f",
   "metadata": {},
   "outputs": [
    {
     "data": {
      "text/html": [
       "<div>\n",
       "<style scoped>\n",
       "    .dataframe tbody tr th:only-of-type {\n",
       "        vertical-align: middle;\n",
       "    }\n",
       "\n",
       "    .dataframe tbody tr th {\n",
       "        vertical-align: top;\n",
       "    }\n",
       "\n",
       "    .dataframe thead th {\n",
       "        text-align: right;\n",
       "    }\n",
       "</style>\n",
       "<table border=\"1\" class=\"dataframe\">\n",
       "  <thead>\n",
       "    <tr style=\"text-align: right;\">\n",
       "      <th></th>\n",
       "      <th>Index</th>\n",
       "      <th>message to examine</th>\n",
       "      <th>label (depression result)</th>\n",
       "    </tr>\n",
       "  </thead>\n",
       "  <tbody>\n",
       "    <tr>\n",
       "      <th>0</th>\n",
       "      <td>106</td>\n",
       "      <td>just had a real good moment. i missssssssss hi...</td>\n",
       "      <td>0</td>\n",
       "    </tr>\n",
       "    <tr>\n",
       "      <th>1</th>\n",
       "      <td>217</td>\n",
       "      <td>is reading manga  http://plurk.com/p/mzp1e</td>\n",
       "      <td>0</td>\n",
       "    </tr>\n",
       "    <tr>\n",
       "      <th>2</th>\n",
       "      <td>220</td>\n",
       "      <td>@comeagainjen http://twitpic.com/2y2lx - http:...</td>\n",
       "      <td>0</td>\n",
       "    </tr>\n",
       "    <tr>\n",
       "      <th>3</th>\n",
       "      <td>288</td>\n",
       "      <td>@lapcat Need to send 'em to my accountant tomo...</td>\n",
       "      <td>0</td>\n",
       "    </tr>\n",
       "    <tr>\n",
       "      <th>4</th>\n",
       "      <td>540</td>\n",
       "      <td>ADD ME ON MYSPACE!!!  myspace.com/LookThunder</td>\n",
       "      <td>0</td>\n",
       "    </tr>\n",
       "  </tbody>\n",
       "</table>\n",
       "</div>"
      ],
      "text/plain": [
       "   Index                                 message to examine  \\\n",
       "0    106  just had a real good moment. i missssssssss hi...   \n",
       "1    217         is reading manga  http://plurk.com/p/mzp1e   \n",
       "2    220  @comeagainjen http://twitpic.com/2y2lx - http:...   \n",
       "3    288  @lapcat Need to send 'em to my accountant tomo...   \n",
       "4    540      ADD ME ON MYSPACE!!!  myspace.com/LookThunder   \n",
       "\n",
       "   label (depression result)  \n",
       "0                          0  \n",
       "1                          0  \n",
       "2                          0  \n",
       "3                          0  \n",
       "4                          0  "
      ]
     },
     "execution_count": 2,
     "metadata": {},
     "output_type": "execute_result"
    }
   ],
   "source": [
    "df = pd.read_csv('/Users/sudheerpadmannagari/anaconda3/sentiment_tweets3.csv')\n",
    "df.head()"
   ]
  },
  {
   "cell_type": "code",
   "execution_count": 3,
   "id": "3e05e893",
   "metadata": {},
   "outputs": [],
   "source": [
    "# RENAMING COLUMNS\n",
    "\n",
    "df = df.rename(columns = {\"message to examine\":\"Text\", \"label (depression result)\" :\"Category\" })"
   ]
  },
  {
   "cell_type": "code",
   "execution_count": 4,
   "id": "b229942d",
   "metadata": {},
   "outputs": [],
   "source": [
    "# KEEPING ONLY THE 2 NECESSARY COLUMNS\n",
    "\n",
    "df = df[[\"Text\", \"Category\"]]"
   ]
  },
  {
   "cell_type": "code",
   "execution_count": 5,
   "id": "785d855a",
   "metadata": {},
   "outputs": [
    {
     "data": {
      "text/html": [
       "<div>\n",
       "<style scoped>\n",
       "    .dataframe tbody tr th:only-of-type {\n",
       "        vertical-align: middle;\n",
       "    }\n",
       "\n",
       "    .dataframe tbody tr th {\n",
       "        vertical-align: top;\n",
       "    }\n",
       "\n",
       "    .dataframe thead th {\n",
       "        text-align: right;\n",
       "    }\n",
       "</style>\n",
       "<table border=\"1\" class=\"dataframe\">\n",
       "  <thead>\n",
       "    <tr style=\"text-align: right;\">\n",
       "      <th></th>\n",
       "      <th>Text</th>\n",
       "      <th>Category</th>\n",
       "    </tr>\n",
       "  </thead>\n",
       "  <tbody>\n",
       "    <tr>\n",
       "      <th>0</th>\n",
       "      <td>just had a real good moment. i missssssssss hi...</td>\n",
       "      <td>0</td>\n",
       "    </tr>\n",
       "    <tr>\n",
       "      <th>1</th>\n",
       "      <td>is reading manga  http://plurk.com/p/mzp1e</td>\n",
       "      <td>0</td>\n",
       "    </tr>\n",
       "    <tr>\n",
       "      <th>2</th>\n",
       "      <td>@comeagainjen http://twitpic.com/2y2lx - http:...</td>\n",
       "      <td>0</td>\n",
       "    </tr>\n",
       "    <tr>\n",
       "      <th>3</th>\n",
       "      <td>@lapcat Need to send 'em to my accountant tomo...</td>\n",
       "      <td>0</td>\n",
       "    </tr>\n",
       "    <tr>\n",
       "      <th>4</th>\n",
       "      <td>ADD ME ON MYSPACE!!!  myspace.com/LookThunder</td>\n",
       "      <td>0</td>\n",
       "    </tr>\n",
       "  </tbody>\n",
       "</table>\n",
       "</div>"
      ],
      "text/plain": [
       "                                                Text  Category\n",
       "0  just had a real good moment. i missssssssss hi...         0\n",
       "1         is reading manga  http://plurk.com/p/mzp1e         0\n",
       "2  @comeagainjen http://twitpic.com/2y2lx - http:...         0\n",
       "3  @lapcat Need to send 'em to my accountant tomo...         0\n",
       "4      ADD ME ON MYSPACE!!!  myspace.com/LookThunder         0"
      ]
     },
     "execution_count": 5,
     "metadata": {},
     "output_type": "execute_result"
    }
   ],
   "source": [
    "# REVIEW DATA AFTER CHANGES\n",
    "\n",
    "df.head(5)"
   ]
  },
  {
   "cell_type": "code",
   "execution_count": 6,
   "id": "969d8d4b",
   "metadata": {},
   "outputs": [
    {
     "data": {
      "text/plain": [
       "(10314, 2)"
      ]
     },
     "execution_count": 6,
     "metadata": {},
     "output_type": "execute_result"
    }
   ],
   "source": [
    "df.shape"
   ]
  },
  {
   "cell_type": "code",
   "execution_count": 7,
   "id": "3d810242",
   "metadata": {},
   "outputs": [
    {
     "name": "stdout",
     "output_type": "stream",
     "text": [
      "<class 'pandas.core.frame.DataFrame'>\n",
      "RangeIndex: 10314 entries, 0 to 10313\n",
      "Data columns (total 2 columns):\n",
      " #   Column    Non-Null Count  Dtype \n",
      "---  ------    --------------  ----- \n",
      " 0   Text      10314 non-null  object\n",
      " 1   Category  10314 non-null  int64 \n",
      "dtypes: int64(1), object(1)\n",
      "memory usage: 161.3+ KB\n"
     ]
    }
   ],
   "source": [
    "df.info()"
   ]
  },
  {
   "cell_type": "code",
   "execution_count": 8,
   "id": "dcf1cbdf",
   "metadata": {},
   "outputs": [
    {
     "data": {
      "text/plain": [
       "Text        0\n",
       "Category    0\n",
       "dtype: int64"
      ]
     },
     "execution_count": 8,
     "metadata": {},
     "output_type": "execute_result"
    }
   ],
   "source": [
    "df.isnull().sum()"
   ]
  },
  {
   "cell_type": "code",
   "execution_count": 9,
   "id": "c21752a7",
   "metadata": {},
   "outputs": [],
   "source": [
    "# REMOVING DUPLICATE VALUES\n",
    "\n",
    "df = df.drop_duplicates()"
   ]
  },
  {
   "cell_type": "code",
   "execution_count": 10,
   "id": "8eb20174",
   "metadata": {},
   "outputs": [
    {
     "data": {
      "text/plain": [
       "array([0, 1])"
      ]
     },
     "execution_count": 10,
     "metadata": {},
     "output_type": "execute_result"
    }
   ],
   "source": [
    "# CHECKING ALL CATEGORIES\n",
    "\n",
    "df[\"Category\"].unique()"
   ]
  },
  {
   "cell_type": "code",
   "execution_count": 11,
   "id": "72700f6c",
   "metadata": {},
   "outputs": [],
   "source": [
    "# RENAMING COLUMNS TO MAKE UNDERSTANDING OF EXPLORATION RESULTS EASIER\n",
    "\n",
    "df['Category'] = df['Category'].replace(0,'Not Depressed')\n",
    "df['Category'] = df['Category'].replace(1,'Depressed')"
   ]
  },
  {
   "cell_type": "code",
   "execution_count": 12,
   "id": "01e60214",
   "metadata": {},
   "outputs": [
    {
     "data": {
      "text/plain": [
       "Not Depressed    7996\n",
       "Depressed        2287\n",
       "Name: Category, dtype: int64"
      ]
     },
     "execution_count": 12,
     "metadata": {},
     "output_type": "execute_result"
    }
   ],
   "source": [
    "# CHECKING NO. OF CATEGORIES\n",
    "\n",
    "df[\"Category\"].value_counts()"
   ]
  },
  {
   "cell_type": "code",
   "execution_count": 13,
   "id": "30ce4326",
   "metadata": {},
   "outputs": [
    {
     "data": {
      "text/plain": [
       "Text(0.5, 1.0, 'COUNTS OF CATEGORIES OF BEING DEPRESSED OR NOT')"
      ]
     },
     "execution_count": 13,
     "metadata": {},
     "output_type": "execute_result"
    },
    {
     "data": {
      "image/png": "[encoded data removed]",
      "text/plain": [
       "<Figure size 1000x700 with 1 Axes>"
      ]
     },
     "metadata": {},
     "output_type": "display_data"
    }
   ],
   "source": [
    "# CHECKING COUNTS OF CATEGORIES\n",
    "\n",
    "fig = plt.figure(figsize =(10, 7))\n",
    "plt.barh(df[\"Category\"].unique(), df[\"Category\"].value_counts(), \n",
    "         color =['red', 'blue'])\n",
    "plt.title(\"COUNTS OF CATEGORIES OF BEING DEPRESSED OR NOT\")"
   ]
  },
  {
   "cell_type": "code",
   "execution_count": 14,
   "id": "6cae02e6",
   "metadata": {},
   "outputs": [],
   "source": [
    "# RENAMING COLUMNS BACK TO INITIAL ENCODED NUMBERS AS EXPLORATION IS OVER AND WE SHALL NEED ENCODED NUMBERS FOR FURTHER ANALYSIS\n",
    "\n",
    "df['Category'] = df['Category'].replace('Not Depressed', 0)\n",
    "df['Category'] = df['Category'].replace('Depressed', 1)"
   ]
  },
  {
   "cell_type": "code",
   "execution_count": 15,
   "id": "ea1f9db6",
   "metadata": {},
   "outputs": [
    {
     "name": "stdout",
     "output_type": "stream",
     "text": [
      "Requirement already satisfied: textacy in ./anaconda3/lib/python3.9/site-packages (0.13.0)\n",
      "Requirement already satisfied: floret~=0.10.0 in ./anaconda3/lib/python3.9/site-packages (from textacy) (0.10.3)\n",
      "Requirement already satisfied: joblib>=0.13.0 in ./anaconda3/lib/python3.9/site-packages (from textacy) (1.1.0)\n",
      "Requirement already satisfied: catalogue~=2.0 in ./anaconda3/lib/python3.9/site-packages (from textacy) (2.0.8)\n",
      "Requirement already satisfied: numpy>=1.17.0 in ./anaconda3/lib/python3.9/site-packages (from textacy) (1.22.4)\n",
      "Requirement already satisfied: jellyfish>=0.8.0 in ./anaconda3/lib/python3.9/site-packages (from textacy) (0.9.0)\n",
      "Requirement already satisfied: cytoolz>=0.10.1 in ./anaconda3/lib/python3.9/site-packages (from textacy) (0.11.0)\n",
      "Requirement already satisfied: spacy~=3.0 in ./anaconda3/lib/python3.9/site-packages (from textacy) (3.5.4)\n",
      "Requirement already satisfied: networkx>=2.7 in ./anaconda3/lib/python3.9/site-packages (from textacy) (2.8.4)\n",
      "Requirement already satisfied: pyphen>=0.10.0 in ./anaconda3/lib/python3.9/site-packages (from textacy) (0.14.0)\n",
      "Requirement already satisfied: tqdm>=4.19.6 in ./anaconda3/lib/python3.9/site-packages (from textacy) (4.64.1)\n",
      "Requirement already satisfied: scikit-learn>=1.0 in ./anaconda3/lib/python3.9/site-packages (from textacy) (1.0.2)\n",
      "Requirement already satisfied: cachetools>=4.0.0 in ./anaconda3/lib/python3.9/site-packages (from textacy) (5.3.0)\n",
      "Requirement already satisfied: requests>=2.10.0 in ./anaconda3/lib/python3.9/site-packages (from textacy) (2.28.1)\n",
      "Requirement already satisfied: scipy>=1.8.0 in ./anaconda3/lib/python3.9/site-packages (from textacy) (1.11.1)\n",
      "Requirement already satisfied: toolz>=0.8.0 in ./anaconda3/lib/python3.9/site-packages (from cytoolz>=0.10.1->textacy) (0.11.2)\n",
      "Requirement already satisfied: certifi>=2017.4.17 in ./anaconda3/lib/python3.9/site-packages (from requests>=2.10.0->textacy) (2023.5.7)\n",
      "Requirement already satisfied: charset-normalizer<3,>=2 in ./anaconda3/lib/python3.9/site-packages (from requests>=2.10.0->textacy) (2.0.4)\n",
      "Requirement already satisfied: urllib3<1.27,>=1.21.1 in ./anaconda3/lib/python3.9/site-packages (from requests>=2.10.0->textacy) (1.26.11)\n",
      "Requirement already satisfied: idna<4,>=2.5 in ./anaconda3/lib/python3.9/site-packages (from requests>=2.10.0->textacy) (3.3)\n",
      "Requirement already satisfied: threadpoolctl>=2.0.0 in ./anaconda3/lib/python3.9/site-packages (from scikit-learn>=1.0->textacy) (2.2.0)\n",
      "Requirement already satisfied: spacy-loggers<2.0.0,>=1.0.0 in ./anaconda3/lib/python3.9/site-packages (from spacy~=3.0->textacy) (1.0.4)\n",
      "Requirement already satisfied: spacy-legacy<3.1.0,>=3.0.11 in ./anaconda3/lib/python3.9/site-packages (from spacy~=3.0->textacy) (3.0.12)\n",
      "Requirement already satisfied: pathy>=0.10.0 in ./anaconda3/lib/python3.9/site-packages (from spacy~=3.0->textacy) (0.10.2)\n",
      "Requirement already satisfied: cymem<2.1.0,>=2.0.2 in ./anaconda3/lib/python3.9/site-packages (from spacy~=3.0->textacy) (2.0.7)\n",
      "Requirement already satisfied: preshed<3.1.0,>=3.0.2 in ./anaconda3/lib/python3.9/site-packages (from spacy~=3.0->textacy) (3.0.8)\n",
      "Requirement already satisfied: setuptools in ./anaconda3/lib/python3.9/site-packages (from spacy~=3.0->textacy) (63.4.1)\n",
      "Requirement already satisfied: typer<0.10.0,>=0.3.0 in ./anaconda3/lib/python3.9/site-packages (from spacy~=3.0->textacy) (0.9.0)\n",
      "Requirement already satisfied: murmurhash<1.1.0,>=0.28.0 in ./anaconda3/lib/python3.9/site-packages (from spacy~=3.0->textacy) (1.0.9)\n",
      "Requirement already satisfied: smart-open<7.0.0,>=5.2.1 in ./anaconda3/lib/python3.9/site-packages (from spacy~=3.0->textacy) (5.2.1)\n",
      "Requirement already satisfied: packaging>=20.0 in ./anaconda3/lib/python3.9/site-packages (from spacy~=3.0->textacy) (21.3)\n",
      "Requirement already satisfied: pydantic!=1.8,!=1.8.1,<1.11.0,>=1.7.4 in ./anaconda3/lib/python3.9/site-packages (from spacy~=3.0->textacy) (1.10.10)\n",
      "Requirement already satisfied: thinc<8.2.0,>=8.1.8 in ./anaconda3/lib/python3.9/site-packages (from spacy~=3.0->textacy) (8.1.10)\n",
      "Requirement already satisfied: langcodes<4.0.0,>=3.2.0 in ./anaconda3/lib/python3.9/site-packages (from spacy~=3.0->textacy) (3.3.0)\n",
      "Requirement already satisfied: jinja2 in ./anaconda3/lib/python3.9/site-packages (from spacy~=3.0->textacy) (2.11.3)\n",
      "Requirement already satisfied: wasabi<1.2.0,>=0.9.1 in ./anaconda3/lib/python3.9/site-packages (from spacy~=3.0->textacy) (1.1.2)\n",
      "Requirement already satisfied: srsly<3.0.0,>=2.4.3 in ./anaconda3/lib/python3.9/site-packages (from spacy~=3.0->textacy) (2.4.6)\n",
      "Requirement already satisfied: pyparsing!=3.0.5,>=2.0.2 in ./anaconda3/lib/python3.9/site-packages (from packaging>=20.0->spacy~=3.0->textacy) (3.0.9)\n",
      "Requirement already satisfied: typing-extensions>=4.2.0 in ./anaconda3/lib/python3.9/site-packages (from pydantic!=1.8,!=1.8.1,<1.11.0,>=1.7.4->spacy~=3.0->textacy) (4.3.0)\n",
      "Requirement already satisfied: confection<1.0.0,>=0.0.1 in ./anaconda3/lib/python3.9/site-packages (from thinc<8.2.0,>=8.1.8->spacy~=3.0->textacy) (0.1.0)\n",
      "Requirement already satisfied: blis<0.8.0,>=0.7.8 in ./anaconda3/lib/python3.9/site-packages (from thinc<8.2.0,>=8.1.8->spacy~=3.0->textacy) (0.7.9)\n",
      "Requirement already satisfied: click<9.0.0,>=7.1.1 in ./anaconda3/lib/python3.9/site-packages (from typer<0.10.0,>=0.3.0->spacy~=3.0->textacy) (8.0.4)\n",
      "Requirement already satisfied: MarkupSafe>=0.23 in ./anaconda3/lib/python3.9/site-packages (from jinja2->spacy~=3.0->textacy) (2.0.1)\n",
      "Note: you may need to restart the kernel to use updated packages.\n"
     ]
    }
   ],
   "source": [
    "# INSTALLING TEXTACY LIBRARY FOR PREPROCESSING\n",
    "\n",
    "%pip install textacy"
   ]
  },
  {
   "cell_type": "code",
   "execution_count": 16,
   "id": "516e6c17",
   "metadata": {},
   "outputs": [
    {
     "name": "stderr",
     "output_type": "stream",
     "text": [
      "[nltk_data] Downloading package stopwords to\n",
      "[nltk_data]     /Users/sudheerpadmannagari/nltk_data...\n",
      "[nltk_data]   Package stopwords is already up-to-date!\n",
      "[nltk_data] Downloading package punkt to\n",
      "[nltk_data]     /Users/sudheerpadmannagari/nltk_data...\n",
      "[nltk_data]   Package punkt is already up-to-date!\n",
      "[nltk_data] Downloading package wordnet to\n",
      "[nltk_data]     /Users/sudheerpadmannagari/nltk_data...\n",
      "[nltk_data]   Package wordnet is already up-to-date!\n"
     ]
    }
   ],
   "source": [
    "# IMPORT OTHER TEXT PREPROCESSING LIBRARIES\n",
    "\n",
    "import nltk\n",
    "nltk.download('stopwords')\n",
    "nltk.download('punkt')\n",
    "nltk.download('wordnet')\n",
    "from nltk.tokenize import word_tokenize\n",
    "from nltk.corpus import stopwords\n",
    "from nltk.stem import WordNetLemmatizer\n",
    "import re\n",
    "from textacy import preprocessing"
   ]
  },
  {
   "cell_type": "code",
   "execution_count": 17,
   "id": "361305be",
   "metadata": {},
   "outputs": [],
   "source": [
    "# SHUFFLING OUR DATASET SINCE IT IS IS UNSHUFFLED AND FIRST 8000 ROWS BELONGED TO A CERTAIN CATEGORY\n",
    "\n",
    "df = df.sample(frac=1)"
   ]
  },
  {
   "cell_type": "code",
   "execution_count": 18,
   "id": "eb539b50",
   "metadata": {},
   "outputs": [],
   "source": [
    "# CONVERTING TEXT TO LOWER CASE\n",
    "\n",
    "df[\"Text\"] = df[\"Text\"].str.lower()"
   ]
  },
  {
   "cell_type": "code",
   "execution_count": 19,
   "id": "f730e118",
   "metadata": {},
   "outputs": [],
   "source": [
    "# REMOVING THE STOPWORDS\n",
    "\n",
    "stop = stopwords.words('english')\n",
    "\n",
    "df[\"Text\"] = df['Text'].apply(lambda x: ' '.join([word for word in x.split() if word not in (stop)]))"
   ]
  },
  {
   "cell_type": "code",
   "execution_count": 20,
   "id": "e6496497",
   "metadata": {},
   "outputs": [],
   "source": [
    "# REMOVING PUNCTUATION, EXTRA WHITESPACES AND HASHTAGS\n",
    "\n",
    "preprocess = preprocessing.make_pipeline(\n",
    "    preprocessing.remove.punctuation,\n",
    "    preprocessing.normalize.whitespace,\n",
    "    preprocessing.replace.hashtags,\n",
    ")\n",
    "\n",
    "df[\"Text\"] = df[\"Text\"].apply(preprocess)"
   ]
  },
  {
   "cell_type": "code",
   "execution_count": 21,
   "id": "bbea4992",
   "metadata": {},
   "outputs": [
    {
     "name": "stderr",
     "output_type": "stream",
     "text": [
      "[nltk_data] Downloading package wordnet to\n",
      "[nltk_data]     /Users/sudheerpadmannagari/nltk_data...\n",
      "[nltk_data]   Package wordnet is already up-to-date!\n"
     ]
    },
    {
     "data": {
      "text/plain": [
       "True"
      ]
     },
     "execution_count": 21,
     "metadata": {},
     "output_type": "execute_result"
    }
   ],
   "source": [
    "nltk.download('wordnet')"
   ]
  },
  {
   "cell_type": "code",
   "execution_count": 22,
   "id": "4e091c84",
   "metadata": {},
   "outputs": [],
   "source": [
    "# STEMMING THE WORDS\n",
    "\n",
    "from nltk.stem.snowball import SnowballStemmer\n",
    "stemmer = SnowballStemmer(\"english\")\n",
    "df['Text'] = df['Text'].apply(lambda x: stemmer.stem(x))"
   ]
  },
  {
   "cell_type": "code",
   "execution_count": 23,
   "id": "b8318411",
   "metadata": {},
   "outputs": [
    {
     "data": {
      "text/html": [
       "<div>\n",
       "<style scoped>\n",
       "    .dataframe tbody tr th:only-of-type {\n",
       "        vertical-align: middle;\n",
       "    }\n",
       "\n",
       "    .dataframe tbody tr th {\n",
       "        vertical-align: top;\n",
       "    }\n",
       "\n",
       "    .dataframe thead th {\n",
       "        text-align: right;\n",
       "    }\n",
       "</style>\n",
       "<table border=\"1\" class=\"dataframe\">\n",
       "  <thead>\n",
       "    <tr style=\"text-align: right;\">\n",
       "      <th></th>\n",
       "      <th>Text</th>\n",
       "      <th>Category</th>\n",
       "    </tr>\n",
       "  </thead>\n",
       "  <tbody>\n",
       "    <tr>\n",
       "      <th>8390</th>\n",
       "      <td>stick cut creases cut wrists depress</td>\n",
       "      <td>1</td>\n",
       "    </tr>\n",
       "    <tr>\n",
       "      <th>653</th>\n",
       "      <td>larasexypanties hey you need chat sometime soo...</td>\n",
       "      <td>0</td>\n",
       "    </tr>\n",
       "    <tr>\n",
       "      <th>9322</th>\n",
       "      <td>do help individuals define goals plan action g...</td>\n",
       "      <td>1</td>\n",
       "    </tr>\n",
       "    <tr>\n",
       "      <th>5330</th>\n",
       "      <td>kimvallee feel way toronto so bright amp refre...</td>\n",
       "      <td>0</td>\n",
       "    </tr>\n",
       "    <tr>\n",
       "      <th>6533</th>\n",
       "      <td>danrua get 100 followers day using www tweeter...</td>\n",
       "      <td>0</td>\n",
       "    </tr>\n",
       "  </tbody>\n",
       "</table>\n",
       "</div>"
      ],
      "text/plain": [
       "                                                   Text  Category\n",
       "8390               stick cut creases cut wrists depress         1\n",
       "653   larasexypanties hey you need chat sometime soo...         0\n",
       "9322  do help individuals define goals plan action g...         1\n",
       "5330  kimvallee feel way toronto so bright amp refre...         0\n",
       "6533  danrua get 100 followers day using www tweeter...         0"
      ]
     },
     "execution_count": 23,
     "metadata": {},
     "output_type": "execute_result"
    }
   ],
   "source": [
    "# REVIEW THE DATA AFTER TEXT PREPROCESSING\n",
    "\n",
    "df.head()"
   ]
  },
  {
   "cell_type": "code",
   "execution_count": 24,
   "id": "c695fcdd",
   "metadata": {},
   "outputs": [],
   "source": [
    "# IMPORTING LIBRARY TO IMPLEMENT TF-IDF ALGORITHM\n",
    "\n",
    "from sklearn.feature_extraction.text import TfidfVectorizer"
   ]
  },
  {
   "cell_type": "code",
   "execution_count": 25,
   "id": "a640e03a",
   "metadata": {},
   "outputs": [],
   "source": [
    "# CREATING CORPUS OF OUR WORDS\n",
    "\n",
    "corpus = df['Text'].tolist()"
   ]
  },
  {
   "cell_type": "code",
   "execution_count": 26,
   "id": "fbc4ea4e",
   "metadata": {},
   "outputs": [
    {
     "name": "stdout",
     "output_type": "stream",
     "text": [
      "Total no. of words in our corpus are: 10283 \n",
      "\n"
     ]
    }
   ],
   "source": [
    "# PRINTING NO. OF WORDS OF OUR CORPUS\n",
    "\n",
    "print(\"Total no. of words in our corpus are:\", len(corpus),'\\n')"
   ]
  },
  {
   "cell_type": "code",
   "execution_count": 27,
   "id": "a4772e55",
   "metadata": {},
   "outputs": [
    {
     "data": {
      "text/plain": [
       "TfidfVectorizer()"
      ]
     },
     "execution_count": 27,
     "metadata": {},
     "output_type": "execute_result"
    }
   ],
   "source": [
    "# FITTING VECTORIZER TO OUR DATA\n",
    "\n",
    "vectorizer = TfidfVectorizer()\n",
    "vectorizer.fit(corpus)"
   ]
  },
  {
   "cell_type": "code",
   "execution_count": 28,
   "id": "aa5ae1e6",
   "metadata": {},
   "outputs": [],
   "source": [
    "# TRANSFORMING OUR DATA\n",
    "\n",
    "Text_tf = vectorizer.transform(df['Text']).toarray()"
   ]
  },
  {
   "cell_type": "code",
   "execution_count": 29,
   "id": "89935d42",
   "metadata": {},
   "outputs": [
    {
     "name": "stdout",
     "output_type": "stream",
     "text": [
      "The 5 most important words are ['basement' 'jules685' 'crash' 'summ' 'come'] \n",
      "\n"
     ]
    }
   ],
   "source": [
    "# GETTING TOP 5 WORDS WITH HIGHEST TF-IDF SCORES\n",
    "\n",
    "feature_array = np.array(vectorizer.get_feature_names_out())\n",
    "tfidf_sorting = np.argsort(Text_tf).flatten()[::-1]\n",
    "\n",
    "n = 5\n",
    "top_n = feature_array[tfidf_sorting][:n]\n",
    "print(\"The 5 most important words are\", top_n, '\\n')"
   ]
  },
  {
   "cell_type": "code",
   "execution_count": 30,
   "id": "8549dcfe",
   "metadata": {},
   "outputs": [
    {
     "name": "stdout",
     "output_type": "stream",
     "text": [
      " The 5 least important words having lowest tf-idf scores are ['part' 'partayyyi' 'parti' 'participants' '00']\n",
      "\n",
      "\n"
     ]
    }
   ],
   "source": [
    "# GETTING WORDS WITH THE LEAST TF-IDF SCORES\n",
    "\n",
    "bottom_n = feature_array[tfidf_sorting][-n:]\n",
    "print(\" The 5 least important words having lowest tf-idf scores are\", bottom_n)\n",
    "print('\\n')"
   ]
  },
  {
   "cell_type": "code",
   "execution_count": 31,
   "id": "ba0be3de",
   "metadata": {},
   "outputs": [
    {
     "data": {
      "text/plain": [
       "array([0., 0., 0., ..., 0., 0., 0.])"
      ]
     },
     "execution_count": 31,
     "metadata": {},
     "output_type": "execute_result"
    }
   ],
   "source": [
    "# REVIEW ONE OF THE VECTORIZED SENTENCE\n",
    "\n",
    "Text_tf[1]"
   ]
  },
  {
   "cell_type": "code",
   "execution_count": 32,
   "id": "45fd2918",
   "metadata": {},
   "outputs": [
    {
     "name": "stdout",
     "output_type": "stream",
     "text": [
      "Length of our vectorized array is: 10283 \n",
      "\n"
     ]
    }
   ],
   "source": [
    "# RECHEKING LENGTH OF OUR VECTORIZED ARRAY\n",
    "\n",
    "print(\"Length of our vectorized array is:\",len(Text_tf), \"\\n\")"
   ]
  },
  {
   "cell_type": "code",
   "execution_count": 33,
   "id": "35ba704e",
   "metadata": {},
   "outputs": [
    {
     "name": "stdout",
     "output_type": "stream",
     "text": [
      "\n",
      " Our TF-IDF Vector in 2-D Looks like: \n",
      "\n"
     ]
    },
    {
     "data": {
      "image/png": "[encoded data removed]",
      "text/plain": [
       "<Figure size 640x480 with 1 Axes>"
      ]
     },
     "metadata": {},
     "output_type": "display_data"
    }
   ],
   "source": [
    "# VISUALIZING OUR TF-IDF VECTOR IN 2-D USING PCA\n",
    "\n",
    "from sklearn.decomposition import PCA\n",
    "%matplotlib inline\n",
    "\n",
    "pca = PCA(n_components=2)\n",
    "\n",
    "df2d = pd.DataFrame(pca.fit_transform(Text_tf), columns=list('xy'))\n",
    "\n",
    "print('\\n', \"Our TF-IDF Vector in 2-D Looks like:\",'\\n')\n",
    "df2d.plot(kind='scatter', x='x', y='y')\n",
    "plt.show()"
   ]
  },
  {
   "cell_type": "code",
   "execution_count": 34,
   "id": "1db55147",
   "metadata": {},
   "outputs": [],
   "source": [
    "# SPLITTING OUR VECTORIZED ARRAY TO TRAINING AND TESTING USING THE 80-20 RULE\n",
    "\n",
    "x_train = Text_tf[:8000]\n",
    "x_test = Text_tf[8000:]"
   ]
  },
  {
   "cell_type": "code",
   "execution_count": 35,
   "id": "b35d9ace",
   "metadata": {},
   "outputs": [],
   "source": [
    "# SPLITTING OUR DEPENDENT VARIABLE INTO TRAINING AND TESTING\n",
    "\n",
    "y_train = df[\"Category\"].iloc[:8000]\n",
    "y_test = df[\"Category\"].iloc[8000:]"
   ]
  },
  {
   "cell_type": "markdown",
   "id": "8440ba29",
   "metadata": {},
   "source": [
    "## FITTING OUR MACHINE LEARNING MODELS"
   ]
  },
  {
   "cell_type": "code",
   "execution_count": 36,
   "id": "37761c62",
   "metadata": {},
   "outputs": [],
   "source": [
    "# IMPORTING TIME LIBRARY TO PRINT THE TIME TAKEN TO TRAIN AND PREDICT WITH THE MODEL\n",
    "\n",
    "from time import time"
   ]
  },
  {
   "cell_type": "markdown",
   "id": "e7bdc6c5",
   "metadata": {},
   "source": [
    "## 1) FITTING A MULTIPLE LOGISTIC REGRESSION MODEL"
   ]
  },
  {
   "cell_type": "code",
   "execution_count": 37,
   "id": "f0325ecf",
   "metadata": {},
   "outputs": [],
   "source": [
    "# IMPORTING LIBRARY TO IMPLEMENT LOGISTIC REGRESSION\n",
    "\n",
    "from sklearn.linear_model import LogisticRegression"
   ]
  },
  {
   "cell_type": "code",
   "execution_count": 38,
   "id": "c53970d7",
   "metadata": {},
   "outputs": [
    {
     "name": "stdout",
     "output_type": "stream",
     "text": [
      "Training Time of the Logistic Regression Model: 2.651 seconds \n",
      "\n"
     ]
    }
   ],
   "source": [
    "# FITTING THE MODEL\n",
    "\n",
    "lr_t0 = time()\n",
    "\n",
    "lgr = LogisticRegression()\n",
    "lgr.fit(x_train, y_train)\n",
    "\n",
    "print(\"Training Time of the Logistic Regression Model:\", round(time()-lr_t0, 3), \"seconds\",'\\n')"
   ]
  },
  {
   "cell_type": "code",
   "execution_count": 39,
   "id": "34756623",
   "metadata": {},
   "outputs": [
    {
     "name": "stdout",
     "output_type": "stream",
     "text": [
      "Time taken to make predictions for the Logistic Regression Model: 0.177 seconds \n",
      "\n"
     ]
    }
   ],
   "source": [
    "# PREDICTING WITH THE MODEL\n",
    "\n",
    "lr_t1 = time()\n",
    "\n",
    "y_pred_lgr = lgr.predict(x_test)\n",
    "\n",
    "print(\"Time taken to make predictions for the Logistic Regression Model:\", round(time()-lr_t1, 3), \"seconds\",'\\n')"
   ]
  },
  {
   "cell_type": "markdown",
   "id": "a0abd88c",
   "metadata": {},
   "source": [
    "## 2) FITTING A DECISION TREE CLASSIFIER"
   ]
  },
  {
   "cell_type": "code",
   "execution_count": 40,
   "id": "8fceddf5",
   "metadata": {},
   "outputs": [],
   "source": [
    "# IMPORTING LIBRARY TO IMPLEMENT DECISION TREE CLASSIFIER\n",
    "\n",
    "from sklearn.tree import DecisionTreeClassifier"
   ]
  },
  {
   "cell_type": "code",
   "execution_count": 41,
   "id": "e98a436c",
   "metadata": {},
   "outputs": [
    {
     "name": "stdout",
     "output_type": "stream",
     "text": [
      "Training Time of the Decision Tree Model: 17.134 seconds \n",
      "\n"
     ]
    }
   ],
   "source": [
    "# FITTING THE MODEL\n",
    "\n",
    "dt_t0=time()\n",
    "\n",
    "dt = DecisionTreeClassifier()\n",
    "dt.fit(x_train, y_train)\n",
    "\n",
    "print(\"Training Time of the Decision Tree Model:\", round(time()-dt_t0, 3), \"seconds\", '\\n')"
   ]
  },
  {
   "cell_type": "code",
   "execution_count": 42,
   "id": "e474fc3a",
   "metadata": {},
   "outputs": [
    {
     "name": "stdout",
     "output_type": "stream",
     "text": [
      "Max depth of our Decision Tree Model is: 624\n",
      "\n",
      "\n"
     ]
    }
   ],
   "source": [
    "# PRINTING MAX DEPTH OF OUR DECISION TREE MODEL\n",
    "\n",
    "dt_depth = dt.tree_.max_depth\n",
    "print(\"Max depth of our Decision Tree Model is:\", dt_depth)\n",
    "print('\\n')"
   ]
  },
  {
   "cell_type": "code",
   "execution_count": 43,
   "id": "040a808a",
   "metadata": {},
   "outputs": [
    {
     "name": "stdout",
     "output_type": "stream",
     "text": [
      "No. of nodes of our Decision Tree Model is: 1249\n",
      "\n",
      "\n"
     ]
    }
   ],
   "source": [
    "# PRINTING NO. OF NODES OF OUR DECISION TREE MODEL\n",
    "\n",
    "dt_nodes = dt.tree_.node_count\n",
    "print(\"No. of nodes of our Decision Tree Model is:\", dt_nodes)\n",
    "print('\\n')"
   ]
  },
  {
   "cell_type": "code",
   "execution_count": 44,
   "id": "c30e6ea0",
   "metadata": {},
   "outputs": [
    {
     "name": "stdout",
     "output_type": "stream",
     "text": [
      "Time taken to make predictions for the Decision Tree Model: 0.074 seconds \n",
      "\n"
     ]
    }
   ],
   "source": [
    "# PREDICTING WITH THE MODEL\n",
    "\n",
    "dt_t1=time()\n",
    "\n",
    "y_pred_dt = dt.predict(x_test)\n",
    "\n",
    "print(\"Time taken to make predictions for the Decision Tree Model:\", round(time()-dt_t1, 3), \"seconds\",'\\n')"
   ]
  },
  {
   "cell_type": "markdown",
   "id": "18e0995f",
   "metadata": {},
   "source": [
    "## 3) FITTING A RANDOM FORESTS CLASSIFIER"
   ]
  },
  {
   "cell_type": "code",
   "execution_count": 45,
   "id": "9ab432e4",
   "metadata": {},
   "outputs": [],
   "source": [
    "# IMPORTING LIBRARY TO IMPLEMENT RANDOM FORESTS CLASSIFIER\n",
    "\n",
    "from sklearn.ensemble import RandomForestClassifier"
   ]
  },
  {
   "cell_type": "code",
   "execution_count": 46,
   "id": "8f67daa4",
   "metadata": {},
   "outputs": [
    {
     "name": "stdout",
     "output_type": "stream",
     "text": [
      "Training Time of the Random Forest Model: 47.18 seconds \n",
      "\n"
     ]
    }
   ],
   "source": [
    "# FITTING THE MODEL\n",
    "\n",
    "rf_t0=time()\n",
    "\n",
    "rf = RandomForestClassifier()\n",
    "rf.fit(x_train, y_train)\n",
    "\n",
    "print(\"Training Time of the Random Forest Model:\", round(time()-rf_t0, 3), \"seconds\", '\\n')"
   ]
  },
  {
   "cell_type": "code",
   "execution_count": 47,
   "id": "a486ca58",
   "metadata": {},
   "outputs": [
    {
     "name": "stdout",
     "output_type": "stream",
     "text": [
      "Max depth of our Decision Tree Model is: 849\n",
      "\n",
      "\n"
     ]
    }
   ],
   "source": [
    "# PRINTING MAX DEPTH OF OUR RANDOM FOREST MODEL\n",
    "\n",
    "rf_depth = rf.estimators_[0].tree_.max_depth\n",
    "print(\"Max depth of our Decision Tree Model is:\", rf_depth)\n",
    "print('\\n')"
   ]
  },
  {
   "cell_type": "code",
   "execution_count": 48,
   "id": "ed38af8b",
   "metadata": {},
   "outputs": [
    {
     "name": "stdout",
     "output_type": "stream",
     "text": [
      "No. of estimators (decision trees) used for building our Random Forest model are: 100\n",
      "\n",
      "\n"
     ]
    }
   ],
   "source": [
    "# PRINTING NUMBER OF ESTIMATORS (DECISION TREES) USED IN BUILDING OUR RNADOM FOREST MODEL\n",
    "\n",
    "n_nodes = rf.estimators_\n",
    "print(\"No. of estimators (decision trees) used for building our Random Forest model are:\",len(n_nodes))\n",
    "print(\"\\n\")"
   ]
  },
  {
   "cell_type": "code",
   "execution_count": 49,
   "id": "2ecc542e",
   "metadata": {},
   "outputs": [
    {
     "name": "stdout",
     "output_type": "stream",
     "text": [
      "Time taken to make predictions for the Random Forest Model: 0.327 seconds \n",
      "\n"
     ]
    }
   ],
   "source": [
    "# PREDICTING WITH THE MODEL\n",
    "\n",
    "rf_t1 = time()\n",
    "\n",
    "y_pred_rf = rf.predict(x_test)\n",
    "\n",
    "print(\"Time taken to make predictions for the Random Forest Model:\", round(time()-rf_t1, 3), \"seconds\", '\\n')"
   ]
  },
  {
   "cell_type": "markdown",
   "id": "7fc699a1",
   "metadata": {},
   "source": [
    "## EVALUATING OUR MODELS"
   ]
  },
  {
   "cell_type": "code",
   "execution_count": 50,
   "id": "6c3e56f8",
   "metadata": {},
   "outputs": [],
   "source": [
    "# IMPORTING LIBRARIES TO EVALAUTE MODELS\n",
    "\n",
    "from sklearn.metrics import accuracy_score\n",
    "from sklearn.metrics import f1_score\n",
    "from sklearn.metrics import recall_score\n",
    "from sklearn.metrics import confusion_matrix"
   ]
  },
  {
   "cell_type": "code",
   "execution_count": 51,
   "id": "3d5def15",
   "metadata": {},
   "outputs": [
    {
     "name": "stdout",
     "output_type": "stream",
     "text": [
      "THE ACCURACY SCORES OF OUR MODELS ARE AS FOLLOWS: \n",
      "\n",
      "Accuracy Score of our Logistic Regression model is:  0.9763469119579501 \n",
      "\n",
      "Accuracy Score of our Decision Tree Classifier is:  0.9964958388085852 \n",
      "\n",
      "Accuracy Score of our Random Forest Classifier is:  0.9964958388085852 \n",
      "\n"
     ]
    }
   ],
   "source": [
    "# CHECKING THE ACCURACY SCORES OF MODELS\n",
    "\n",
    "print(\"THE ACCURACY SCORES OF OUR MODELS ARE AS FOLLOWS:\", \"\\n\")\n",
    "print(\"Accuracy Score of our Logistic Regression model is: \", accuracy_score(y_pred_lgr, y_test), \"\\n\")\n",
    "print(\"Accuracy Score of our Decision Tree Classifier is: \", accuracy_score(y_pred_dt, y_test), \"\\n\")\n",
    "print(\"Accuracy Score of our Random Forest Classifier is: \", accuracy_score(y_pred_rf, y_test), \"\\n\")"
   ]
  },
  {
   "cell_type": "code",
   "execution_count": 52,
   "id": "68b5b56e",
   "metadata": {},
   "outputs": [
    {
     "data": {
      "text/plain": [
       "<Figure size 2000x2000 with 0 Axes>"
      ]
     },
     "execution_count": 52,
     "metadata": {},
     "output_type": "execute_result"
    },
    {
     "data": {
      "image/png": "[encoded data removed]",
      "text/plain": [
       "<Figure size 640x480 with 1 Axes>"
      ]
     },
     "metadata": {},
     "output_type": "display_data"
    },
    {
     "data": {
      "text/plain": [
       "<Figure size 2000x2000 with 0 Axes>"
      ]
     },
     "metadata": {},
     "output_type": "display_data"
    }
   ],
   "source": [
    "# COMPARING THE ACCURACIES OF MODELS USING A BAR PLOT\n",
    "\n",
    "plt.bar(x = [\"Logistic Regression\",\"Decision Trees\", \"Random Forests\"], height = [(accuracy_score(y_pred_lgr, y_test))*100, (accuracy_score(y_pred_dt, y_test))*100,(accuracy_score(y_pred_rf, y_test))*100 ], color = [\"red\", \"green\", \"blue\"])\n",
    "plt.title(\"ACCURACIES OF OUR MODELS\")\n",
    "plt.ylabel(\"Accuracy Percentage\")\n",
    "plt.xlabel(\"Machine Learning Models\")\n",
    "\n",
    "plt.figure(figsize=(20,20))"
   ]
  },
  {
   "cell_type": "code",
   "execution_count": 53,
   "id": "264b6376",
   "metadata": {},
   "outputs": [
    {
     "name": "stdout",
     "output_type": "stream",
     "text": [
      "Confusion Matrix of our Logistic Regression Model is:\n",
      "[[1750   54]\n",
      " [   0  479]] \n",
      "\n",
      "The no. of true positives are: 1750 \n",
      "\n",
      "The no. of true negatives are: 479 \n",
      "\n"
     ]
    }
   ],
   "source": [
    "# CONFUSION MATRIX FOR OUR LOGISTIC REGRESSION MODEL\n",
    "\n",
    "confusion_lgr = confusion_matrix(y_pred_lgr, y_test)\n",
    "\n",
    "print(\"Confusion Matrix of our Logistic Regression Model is:\")\n",
    "print(confusion_lgr, \"\\n\")\n",
    "print(\"The no. of true positives are:\", confusion_lgr[0,0], \"\\n\")\n",
    "print(\"The no. of true negatives are:\", confusion_lgr[1,1], \"\\n\")"
   ]
  },
  {
   "cell_type": "code",
   "execution_count": 54,
   "id": "e1a43ba6",
   "metadata": {},
   "outputs": [
    {
     "name": "stdout",
     "output_type": "stream",
     "text": [
      "Confusion Matrix of our Logistic Regression Model is:\n",
      "[[1750    8]\n",
      " [   0  525]] \n",
      "\n",
      "The no. of true positives are: 1750 \n",
      "\n",
      "The no. of true negatives are: 525 \n",
      "\n"
     ]
    }
   ],
   "source": [
    "# CONFUSION MATRIX FOR OUR DECISION TREES CLASSIFIER MODEL\n",
    "\n",
    "confusion_dt = confusion_matrix(y_pred_dt, y_test)\n",
    "\n",
    "print(\"Confusion Matrix of our Logistic Regression Model is:\")\n",
    "print(confusion_dt, \"\\n\")\n",
    "print(\"The no. of true positives are:\", confusion_dt[0,0], \"\\n\")\n",
    "print(\"The no. of true negatives are:\", confusion_dt[1,1], \"\\n\")"
   ]
  },
  {
   "cell_type": "code",
   "execution_count": 55,
   "id": "774988f7",
   "metadata": {},
   "outputs": [
    {
     "name": "stdout",
     "output_type": "stream",
     "text": [
      "Confusion Matrix of our Logistic Regression Model is:\n",
      "[[1749    7]\n",
      " [   1  526]] \n",
      "\n",
      "The no. of true positives are: 1749 \n",
      "\n",
      "The no. of true negatives are: 526 \n",
      "\n"
     ]
    }
   ],
   "source": [
    "# CONFUSION MATRIX FOR OUR RANDOM FORESTS CLASSIFIER MODEL\n",
    "\n",
    "confusion_rf = confusion_matrix(y_pred_rf, y_test)\n",
    "\n",
    "print(\"Confusion Matrix of our Logistic Regression Model is:\")\n",
    "print(confusion_rf, \"\\n\")\n",
    "print(\"The no. of true positives are:\", confusion_rf[0,0], \"\\n\")\n",
    "print(\"The no. of true negatives are:\", confusion_rf[1,1], \"\\n\")"
   ]
  },
  {
   "cell_type": "code",
   "execution_count": 56,
   "id": "334ef23c",
   "metadata": {},
   "outputs": [
    {
     "name": "stdout",
     "output_type": "stream",
     "text": [
      "THE F1 SCORES OF OUR MODELS: \n",
      "\n",
      "F1 Score of our Logistic Regression model is:  0.9466403162055336 \n",
      "\n",
      "F1 Score of our Decision Tree Classifier is:  0.9924385633270322 \n",
      "\n",
      "F1 Score of our Random Forest Classifier is:  0.9924528301886792 \n",
      "\n"
     ]
    }
   ],
   "source": [
    "# CHECKING THE F1 SCORES OF MODELS\n",
    "\n",
    "print(\"THE F1 SCORES OF OUR MODELS:\", \"\\n\")\n",
    "print(\"F1 Score of our Logistic Regression model is: \", f1_score(y_pred_lgr, y_test), \"\\n\")\n",
    "print(\"F1 Score of our Decision Tree Classifier is: \", f1_score(y_pred_dt, y_test), \"\\n\")\n",
    "print(\"F1 Score of our Random Forest Classifier is: \", f1_score(y_pred_rf, y_test), \"\\n\")"
   ]
  },
  {
   "cell_type": "code",
   "execution_count": 57,
   "id": "b3006938",
   "metadata": {},
   "outputs": [
    {
     "name": "stdout",
     "output_type": "stream",
     "text": [
      "THE RECALL SCORES OF OUR MODELS \n",
      "\n",
      "Recall Score of our Logistic Regression model is:  1.0 \n",
      "\n",
      "Recall Score of our Decision Tree Classifier is:  1.0 \n",
      "\n",
      "Recall Score of our Random Forest Classifier is:  0.9981024667931688 \n",
      "\n"
     ]
    }
   ],
   "source": [
    "# CHECKING THE RECALL SCORE\n",
    "\n",
    "print(\"THE RECALL SCORES OF OUR MODELS\", \"\\n\")\n",
    "print(\"Recall Score of our Logistic Regression model is: \", recall_score(y_pred_lgr, y_test), \"\\n\")\n",
    "print(\"Recall Score of our Decision Tree Classifier is: \", recall_score(y_pred_dt, y_test), \"\\n\")\n",
    "print(\"Recall Score of our Random Forest Classifier is: \", recall_score(y_pred_rf, y_test), \"\\n\")"
   ]
  },
  {
   "cell_type": "code",
   "execution_count": null,
   "id": "314a22a8",
   "metadata": {},
   "outputs": [],
   "source": []
  }
 ],
 "metadata": {
  "kernelspec": {
   "display_name": "Python 3 (ipykernel)",
   "language": "python",
   "name": "python3"
  },
  "language_info": {
   "codemirror_mode": {
    "name": "ipython",
    "version": 3
   },
   "file_extension": ".py",
   "mimetype": "text/x-python",
   "name": "python",
   "nbconvert_exporter": "python",
   "pygments_lexer": "ipython3",
   "version": "3.9.13"
  }
 },
 "nbformat": 4,
 "nbformat_minor": 5
}
